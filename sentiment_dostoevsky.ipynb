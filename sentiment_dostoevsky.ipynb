{
  "nbformat": 4,
  "nbformat_minor": 0,
  "metadata": {
    "colab": {
      "name": "sentiment_dostoevsky.ipynb",
      "provenance": [],
      "collapsed_sections": [],
      "authorship_tag": "ABX9TyPuqBjymP832HS8eG2sFkqS",
      "include_colab_link": true
    },
    "kernelspec": {
      "name": "python3",
      "display_name": "Python 3"
    },
    "language_info": {
      "name": "python"
    }
  },
  "cells": [
    {
      "cell_type": "markdown",
      "metadata": {
        "id": "view-in-github",
        "colab_type": "text"
      },
      "source": [
        "<a href=\"https://colab.research.google.com/github/Gratisfo/One-media-sentiment/blob/main/sentiment_dostoevsky.ipynb\" target=\"_parent\"><img src=\"https://colab.research.google.com/assets/colab-badge.svg\" alt=\"Open In Colab\"/></a>"
      ]
    },
    {
      "cell_type": "code",
      "metadata": {
        "id": "0JMYUaa3QYbV"
      },
      "source": [
        "!pip install psycopg2-binary"
      ],
      "execution_count": null,
      "outputs": []
    },
    {
      "cell_type": "code",
      "metadata": {
        "colab": {
          "base_uri": "https://localhost:8080/"
        },
        "id": "ziFlZJv9QQEe",
        "outputId": "52dc11d4-dc2f-467a-b79c-b1498725f1d5"
      },
      "source": [
        "import psycopg2\n",
        "from config import config\n",
        "import pandas as pd\n",
        "\n",
        "\n",
        "list_of_posts = []\n",
        "list_of_ids = []\n",
        "df_posts = pd.DataFrame()\n",
        "def connect():\n",
        "    \"\"\" Connect to the PostgreSQL database server \"\"\"\n",
        "    conn = None\n",
        "    try:\n",
        "        # read connection parameters\n",
        "        params = config()\n",
        "\n",
        "        # connect to the PostgreSQL server\n",
        "        print('Connecting to the PostgreSQL database...')\n",
        "        conn = psycopg2.connect(**params)\n",
        "\n",
        "        # create a cursor\n",
        "        cur = conn.cursor()\n",
        "        cur.execute(\"\"\"SELECT  message_id, content FROM message limit 500\"\"\")\n",
        "        for message in cur.fetchall():\n",
        "          list_of_ids.append(message[0])\n",
        "          list_of_posts.append(message[1])\n",
        "        df_posts['post'] = list_of_posts\n",
        "        df_posts['id'] = list_of_ids\n",
        "        cur.close()\n",
        "        return df_posts, \n",
        "    except (Exception, psycopg2.DatabaseError) as error:\n",
        "        print(error)\n",
        "    finally:\n",
        "        if conn is not None:\n",
        "            conn.close()\n",
        "            print('Database connection closed.')\n",
        "\n",
        "\n",
        "if __name__ == '__main__':\n",
        "    connect()\n"
      ],
      "execution_count": null,
      "outputs": [
        {
          "output_type": "stream",
          "name": "stdout",
          "text": [
            "Connecting to the PostgreSQL database...\n",
            "Database connection closed.\n"
          ]
        }
      ]
    },
    {
      "cell_type": "code",
      "metadata": {
        "colab": {
          "base_uri": "https://localhost:8080/",
          "height": 419
        },
        "id": "eU2K4LO23p2G",
        "outputId": "137140b9-7c05-4475-bc48-ddece3521863"
      },
      "source": [
        "df_posts"
      ],
      "execution_count": null,
      "outputs": [
        {
          "output_type": "execute_result",
          "data": {
            "text/html": [
              "<div>\n",
              "<style scoped>\n",
              "    .dataframe tbody tr th:only-of-type {\n",
              "        vertical-align: middle;\n",
              "    }\n",
              "\n",
              "    .dataframe tbody tr th {\n",
              "        vertical-align: top;\n",
              "    }\n",
              "\n",
              "    .dataframe thead th {\n",
              "        text-align: right;\n",
              "    }\n",
              "</style>\n",
              "<table border=\"1\" class=\"dataframe\">\n",
              "  <thead>\n",
              "    <tr style=\"text-align: right;\">\n",
              "      <th></th>\n",
              "      <th>post</th>\n",
              "      <th>id</th>\n",
              "    </tr>\n",
              "  </thead>\n",
              "  <tbody>\n",
              "    <tr>\n",
              "      <th>0</th>\n",
              "      <td>**Путин дал приказ после расстрела в пермском ...</td>\n",
              "      <td>1415220</td>\n",
              "    </tr>\n",
              "    <tr>\n",
              "      <th>1</th>\n",
              "      <td>**В авариях на дорогах ДНР травмированы три че...</td>\n",
              "      <td>1415219</td>\n",
              "    </tr>\n",
              "    <tr>\n",
              "      <th>2</th>\n",
              "      <td>@mk_rus</td>\n",
              "      <td>1415218</td>\n",
              "    </tr>\n",
              "    <tr>\n",
              "      <th>3</th>\n",
              "      <td>**В Кыргызстане прошли выборы депутатов в Госу...</td>\n",
              "      <td>1415217</td>\n",
              "    </tr>\n",
              "    <tr>\n",
              "      <th>4</th>\n",
              "      <td>**Вынесен приговор жителю Кохмы, повторно упра...</td>\n",
              "      <td>1415216</td>\n",
              "    </tr>\n",
              "    <tr>\n",
              "      <th>...</th>\n",
              "      <td>...</td>\n",
              "      <td>...</td>\n",
              "    </tr>\n",
              "    <tr>\n",
              "      <th>495</th>\n",
              "      <td>**Огромный кит проплыл вплотную под SUP-бордом...</td>\n",
              "      <td>1414737</td>\n",
              "    </tr>\n",
              "    <tr>\n",
              "      <th>496</th>\n",
              "      <td>**Женщину-врача обвинили в убийстве троих доче...</td>\n",
              "      <td>1414736</td>\n",
              "    </tr>\n",
              "    <tr>\n",
              "      <th>497</th>\n",
              "      <td>**Укропы, привет!** ВСН (ЛНР). #Донбасс</td>\n",
              "      <td>12761</td>\n",
              "    </tr>\n",
              "    <tr>\n",
              "      <th>498</th>\n",
              "      <td>**Башкирия запросила дополнительное финансиров...</td>\n",
              "      <td>1644</td>\n",
              "    </tr>\n",
              "    <tr>\n",
              "      <th>499</th>\n",
              "      <td>**Тренажеры, качели и лазалки: новую многофунк...</td>\n",
              "      <td>1414735</td>\n",
              "    </tr>\n",
              "  </tbody>\n",
              "</table>\n",
              "<p>500 rows × 2 columns</p>\n",
              "</div>"
            ],
            "text/plain": [
              "                                                  post       id\n",
              "0    **Путин дал приказ после расстрела в пермском ...  1415220\n",
              "1    **В авариях на дорогах ДНР травмированы три че...  1415219\n",
              "2                                              @mk_rus  1415218\n",
              "3    **В Кыргызстане прошли выборы депутатов в Госу...  1415217\n",
              "4    **Вынесен приговор жителю Кохмы, повторно упра...  1415216\n",
              "..                                                 ...      ...\n",
              "495  **Огромный кит проплыл вплотную под SUP-бордом...  1414737\n",
              "496  **Женщину-врача обвинили в убийстве троих доче...  1414736\n",
              "497            **Укропы, привет!** ВСН (ЛНР). #Донбасс    12761\n",
              "498  **Башкирия запросила дополнительное финансиров...     1644\n",
              "499  **Тренажеры, качели и лазалки: новую многофунк...  1414735\n",
              "\n",
              "[500 rows x 2 columns]"
            ]
          },
          "metadata": {},
          "execution_count": 13
        }
      ]
    },
    {
      "cell_type": "markdown",
      "metadata": {
        "id": "wUFy0NDeXR3a"
      },
      "source": [
        "### Оценка `dostoevsky`"
      ]
    },
    {
      "cell_type": "code",
      "metadata": {
        "id": "FMT4SWKkXZPS"
      },
      "source": [
        "!pip install dostoevsky"
      ],
      "execution_count": null,
      "outputs": []
    },
    {
      "cell_type": "code",
      "metadata": {
        "id": "eDMMc83R2uBv"
      },
      "source": [
        "!python -m dostoevsky download fasttext-social-network-model"
      ],
      "execution_count": null,
      "outputs": []
    },
    {
      "cell_type": "code",
      "metadata": {
        "id": "4HSoXQAMXQwH"
      },
      "source": [
        "from dostoevsky.tokenization import RegexTokenizer\n",
        "from dostoevsky.models import FastTextSocialNetworkModel\n",
        "import fasttext\n",
        "import pandas as pd"
      ],
      "execution_count": null,
      "outputs": []
    },
    {
      "cell_type": "code",
      "metadata": {
        "id": "ShtgDfyZWUSs"
      },
      "source": [
        "fasttext.FastText.eprint = lambda x: None\n",
        "tokenizer = RegexTokenizer()\n",
        "model = FastTextSocialNetworkModel(tokenizer=tokenizer)\n",
        "sentiment_list = []\n",
        "results = model.predict(list_of_posts, k=2)\n",
        "for sentiment in results:\n",
        "    sentiment_list.append(sentiment)"
      ],
      "execution_count": null,
      "outputs": []
    },
    {
      "cell_type": "code",
      "metadata": {
        "colab": {
          "base_uri": "https://localhost:8080/",
          "height": 419
        },
        "id": "DrfANJoP4BXW",
        "outputId": "75baefdb-6772-4181-ef93-b6d40e2cd894"
      },
      "source": [
        "neutral_list = []\n",
        "negative_list = []\n",
        "positive_list = []\n",
        "speech_list = []\n",
        "skip_list = []\n",
        "for sentiment in sentiment_list:\n",
        "    neutral = sentiment.get('neutral')\n",
        "    negative = sentiment.get('negative')\n",
        "    positive = sentiment.get('positive')\n",
        "    if neutral is None:\n",
        "        neutral_list.append(0)\n",
        "    else:\n",
        "        neutral_list.append(sentiment.get('neutral'))\n",
        "    if negative is None:\n",
        "        negative_list.append(0)\n",
        "    else:\n",
        "        negative_list.append(sentiment.get('negative'))\n",
        "    if positive is None:\n",
        "        positive_list.append(0)\n",
        "    else:\n",
        "        positive_list.append(sentiment.get('positive'))\n",
        "df_posts['neutral'] = neutral_list\n",
        "df_posts['negative'] = negative_list\n",
        "df_posts['positive'] = positive_list\n",
        "df_posts"
      ],
      "execution_count": null,
      "outputs": [
        {
          "output_type": "execute_result",
          "data": {
            "text/html": [
              "<div>\n",
              "<style scoped>\n",
              "    .dataframe tbody tr th:only-of-type {\n",
              "        vertical-align: middle;\n",
              "    }\n",
              "\n",
              "    .dataframe tbody tr th {\n",
              "        vertical-align: top;\n",
              "    }\n",
              "\n",
              "    .dataframe thead th {\n",
              "        text-align: right;\n",
              "    }\n",
              "</style>\n",
              "<table border=\"1\" class=\"dataframe\">\n",
              "  <thead>\n",
              "    <tr style=\"text-align: right;\">\n",
              "      <th></th>\n",
              "      <th>post</th>\n",
              "      <th>id</th>\n",
              "      <th>neutral</th>\n",
              "      <th>negative</th>\n",
              "      <th>positive</th>\n",
              "    </tr>\n",
              "  </thead>\n",
              "  <tbody>\n",
              "    <tr>\n",
              "      <th>0</th>\n",
              "      <td>**Путин дал приказ после расстрела в пермском ...</td>\n",
              "      <td>1415220</td>\n",
              "      <td>0.658428</td>\n",
              "      <td>0.206904</td>\n",
              "      <td>0.000000</td>\n",
              "    </tr>\n",
              "    <tr>\n",
              "      <th>1</th>\n",
              "      <td>**В авариях на дорогах ДНР травмированы три че...</td>\n",
              "      <td>1415219</td>\n",
              "      <td>0.629785</td>\n",
              "      <td>0.191943</td>\n",
              "      <td>0.000000</td>\n",
              "    </tr>\n",
              "    <tr>\n",
              "      <th>2</th>\n",
              "      <td>@mk_rus</td>\n",
              "      <td>1415218</td>\n",
              "      <td>1.000010</td>\n",
              "      <td>0.000000</td>\n",
              "      <td>0.001217</td>\n",
              "    </tr>\n",
              "    <tr>\n",
              "      <th>3</th>\n",
              "      <td>**В Кыргызстане прошли выборы депутатов в Госу...</td>\n",
              "      <td>1415217</td>\n",
              "      <td>0.749097</td>\n",
              "      <td>0.262852</td>\n",
              "      <td>0.000000</td>\n",
              "    </tr>\n",
              "    <tr>\n",
              "      <th>4</th>\n",
              "      <td>**Вынесен приговор жителю Кохмы, повторно упра...</td>\n",
              "      <td>1415216</td>\n",
              "      <td>0.896261</td>\n",
              "      <td>0.160276</td>\n",
              "      <td>0.000000</td>\n",
              "    </tr>\n",
              "    <tr>\n",
              "      <th>...</th>\n",
              "      <td>...</td>\n",
              "      <td>...</td>\n",
              "      <td>...</td>\n",
              "      <td>...</td>\n",
              "      <td>...</td>\n",
              "    </tr>\n",
              "    <tr>\n",
              "      <th>495</th>\n",
              "      <td>**Огромный кит проплыл вплотную под SUP-бордом...</td>\n",
              "      <td>1414737</td>\n",
              "      <td>0.492198</td>\n",
              "      <td>0.168867</td>\n",
              "      <td>0.000000</td>\n",
              "    </tr>\n",
              "    <tr>\n",
              "      <th>496</th>\n",
              "      <td>**Женщину-врача обвинили в убийстве троих доче...</td>\n",
              "      <td>1414736</td>\n",
              "      <td>0.777310</td>\n",
              "      <td>0.206904</td>\n",
              "      <td>0.000000</td>\n",
              "    </tr>\n",
              "    <tr>\n",
              "      <th>497</th>\n",
              "      <td>**Укропы, привет!** ВСН (ЛНР). #Донбасс</td>\n",
              "      <td>12761</td>\n",
              "      <td>0.000000</td>\n",
              "      <td>0.348655</td>\n",
              "      <td>0.000000</td>\n",
              "    </tr>\n",
              "    <tr>\n",
              "      <th>498</th>\n",
              "      <td>**Башкирия запросила дополнительное финансиров...</td>\n",
              "      <td>1644</td>\n",
              "      <td>0.787941</td>\n",
              "      <td>0.206904</td>\n",
              "      <td>0.000000</td>\n",
              "    </tr>\n",
              "    <tr>\n",
              "      <th>499</th>\n",
              "      <td>**Тренажеры, качели и лазалки: новую многофунк...</td>\n",
              "      <td>1414735</td>\n",
              "      <td>0.743178</td>\n",
              "      <td>0.228166</td>\n",
              "      <td>0.000000</td>\n",
              "    </tr>\n",
              "  </tbody>\n",
              "</table>\n",
              "<p>500 rows × 5 columns</p>\n",
              "</div>"
            ],
            "text/plain": [
              "                                                  post  ...  positive\n",
              "0    **Путин дал приказ после расстрела в пермском ...  ...  0.000000\n",
              "1    **В авариях на дорогах ДНР травмированы три че...  ...  0.000000\n",
              "2                                              @mk_rus  ...  0.001217\n",
              "3    **В Кыргызстане прошли выборы депутатов в Госу...  ...  0.000000\n",
              "4    **Вынесен приговор жителю Кохмы, повторно упра...  ...  0.000000\n",
              "..                                                 ...  ...       ...\n",
              "495  **Огромный кит проплыл вплотную под SUP-бордом...  ...  0.000000\n",
              "496  **Женщину-врача обвинили в убийстве троих доче...  ...  0.000000\n",
              "497            **Укропы, привет!** ВСН (ЛНР). #Донбасс  ...  0.000000\n",
              "498  **Башкирия запросила дополнительное финансиров...  ...  0.000000\n",
              "499  **Тренажеры, качели и лазалки: новую многофунк...  ...  0.000000\n",
              "\n",
              "[500 rows x 5 columns]"
            ]
          },
          "metadata": {},
          "execution_count": 16
        }
      ]
    },
    {
      "cell_type": "code",
      "metadata": {
        "colab": {
          "base_uri": "https://localhost:8080/",
          "height": 80
        },
        "id": "2_iemewh4VW5",
        "outputId": "35cdaa24-6ce3-4282-ef72-51bbcf2822c6"
      },
      "source": [
        "df_posts[df_posts.negative > 0.5]"
      ],
      "execution_count": null,
      "outputs": [
        {
          "output_type": "execute_result",
          "data": {
            "text/html": [
              "<div>\n",
              "<style scoped>\n",
              "    .dataframe tbody tr th:only-of-type {\n",
              "        vertical-align: middle;\n",
              "    }\n",
              "\n",
              "    .dataframe tbody tr th {\n",
              "        vertical-align: top;\n",
              "    }\n",
              "\n",
              "    .dataframe thead th {\n",
              "        text-align: right;\n",
              "    }\n",
              "</style>\n",
              "<table border=\"1\" class=\"dataframe\">\n",
              "  <thead>\n",
              "    <tr style=\"text-align: right;\">\n",
              "      <th></th>\n",
              "      <th>post</th>\n",
              "      <th>id</th>\n",
              "      <th>neutral</th>\n",
              "      <th>negative</th>\n",
              "      <th>positive</th>\n",
              "    </tr>\n",
              "  </thead>\n",
              "  <tbody>\n",
              "    <tr>\n",
              "      <th>329</th>\n",
              "      <td>⚡️Оружие при нем было огнестрельным, а не трав...</td>\n",
              "      <td>16676</td>\n",
              "      <td>0.51563</td>\n",
              "      <td>0.52343</td>\n",
              "      <td>0.0</td>\n",
              "    </tr>\n",
              "  </tbody>\n",
              "</table>\n",
              "</div>"
            ],
            "text/plain": [
              "                                                  post  ... positive\n",
              "329  ⚡️Оружие при нем было огнестрельным, а не трав...  ...      0.0\n",
              "\n",
              "[1 rows x 5 columns]"
            ]
          },
          "metadata": {},
          "execution_count": 18
        }
      ]
    }
  ]
}